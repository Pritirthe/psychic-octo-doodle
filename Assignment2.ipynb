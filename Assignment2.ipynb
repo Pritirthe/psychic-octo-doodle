{
 "cells": [
  {
   "cell_type": "code",
   "execution_count": null,
   "id": "9147ec7d-d070-43dc-a282-df4a24bf8cab",
   "metadata": {
    "id": "9147ec7d-d070-43dc-a282-df4a24bf8cab"
   },
   "outputs": [],
   "source": [
    "import requests\n",
    "from bs4 import BeautifulSoup\n",
    "import pandas as pd"
   ]
  },
  {
   "cell_type": "code",
   "execution_count": null,
   "id": "e203936a-adf7-4358-bcb1-c6bbfcd95c46",
   "metadata": {
    "id": "e203936a-adf7-4358-bcb1-c6bbfcd95c46"
   },
   "outputs": [],
   "source": [
    "link = \"https://www.imdb.com/search/title/?groups=top_100&sort=user_rating,desc\"\n",
    "pages = 2\n",
    "data = []"
   ]
  },
  {
   "cell_type": "code",
   "execution_count": null,
   "id": "aaec4d0d-ec65-4681-9d50-491bec42d371",
   "metadata": {
    "id": "aaec4d0d-ec65-4681-9d50-491bec42d371"
   },
   "outputs": [],
   "source": [
    "for p in range(pages):\n",
    "    url = f\"{link}&start={p*50}\"\n",
    "    ack = requests.get(url)\n",
    "    getdata = BeautifulSoup(ack.content, \"html.parser\")\n",
    "\n",
    "    mv = getdata.find_all(\"div\", {\"class\": \"lister-item mode-advanced\"})\n",
    "    for m in mv:\n",
    "        rank = m.find_all(\"span\", {\"name\": \"nv\"})[-1].text.strip(\"#\") if len(m.find_all(\"span\", {\"name\": \"nv\"})) > 1 else \"\"\n",
    "        name = m.find(\"h3\", {\"class\": \"lister-item-header\"}).a.text.strip()\n",
    "        year = m.find(\"span\", {\"class\": \"lister-item-year\"}).text.strip(\"()\")\n",
    "        rating = m.find(\"div\", {\"class\": \"inline-block ratings-imdb-rating\"})[\"data-value\"]\n",
    "        duration = m.find(\"span\", {\"class\": \"runtime\"}).text.strip(\" min\")\n",
    "        metascore = m.find(\"span\", {\"class\": \"metascore\"}).text.strip() if m.find(\"span\", {\"class\": \"metascore\"}) else \"\"\n",
    "        directors = [director.text for director in m.find_all(\"a\", {\"href\": lambda href: href and \"/name/\" in href})]\n",
    "        director = directors[0] if len(directors) > 0 else \"\"\n",
    "\n",
    "        data.append([rank, name, year, rating, duration, metascore, director])\n",
    "df = pd.DataFrame(data, columns=[\"Rank\", \"Name\", \"Year\", \"Rating\", \"Duration (mins)\", \"Metascore\", \"Director\"])"
   ]
  },
  {
   "cell_type": "code",
   "execution_count": null,
   "id": "97d32f69-e2a0-4a45-a28f-879fb75ddbb5",
   "metadata": {
    "id": "97d32f69-e2a0-4a45-a28f-879fb75ddbb5",
    "outputId": "35ad3b9d-0e34-4f53-fdaa-9b9a41093e63"
   },
   "outputs": [
    {
     "data": {
      "text/html": [
       "<div>\n",
       "<style scoped>\n",
       "    .dataframe tbody tr th:only-of-type {\n",
       "        vertical-align: middle;\n",
       "    }\n",
       "\n",
       "    .dataframe tbody tr th {\n",
       "        vertical-align: top;\n",
       "    }\n",
       "\n",
       "    .dataframe thead th {\n",
       "        text-align: right;\n",
       "    }\n",
       "</style>\n",
       "<table border=\"1\" class=\"dataframe\">\n",
       "  <thead>\n",
       "    <tr style=\"text-align: right;\">\n",
       "      <th></th>\n",
       "      <th>Rank</th>\n",
       "      <th>Name</th>\n",
       "      <th>Year</th>\n",
       "      <th>Rating</th>\n",
       "      <th>Duration (mins)</th>\n",
       "      <th>Metascore</th>\n",
       "      <th>Director</th>\n",
       "    </tr>\n",
       "  </thead>\n",
       "  <tbody>\n",
       "    <tr>\n",
       "      <th>0</th>\n",
       "      <td>1</td>\n",
       "      <td>The Shawshank Redemption</td>\n",
       "      <td>1994</td>\n",
       "      <td>9.3</td>\n",
       "      <td>142</td>\n",
       "      <td>82</td>\n",
       "      <td>Frank Darabont</td>\n",
       "    </tr>\n",
       "    <tr>\n",
       "      <th>1</th>\n",
       "      <td>2</td>\n",
       "      <td>The Godfather</td>\n",
       "      <td>1972</td>\n",
       "      <td>9.2</td>\n",
       "      <td>175</td>\n",
       "      <td>100</td>\n",
       "      <td>Francis Ford Coppola</td>\n",
       "    </tr>\n",
       "    <tr>\n",
       "      <th>2</th>\n",
       "      <td>3</td>\n",
       "      <td>The Dark Knight</td>\n",
       "      <td>2008</td>\n",
       "      <td>9</td>\n",
       "      <td>152</td>\n",
       "      <td>84</td>\n",
       "      <td>Christopher Nolan</td>\n",
       "    </tr>\n",
       "    <tr>\n",
       "      <th>3</th>\n",
       "      <td>6</td>\n",
       "      <td>Schindler's List</td>\n",
       "      <td>1993</td>\n",
       "      <td>9</td>\n",
       "      <td>195</td>\n",
       "      <td>95</td>\n",
       "      <td>Oskar Schindler</td>\n",
       "    </tr>\n",
       "    <tr>\n",
       "      <th>4</th>\n",
       "      <td>7</td>\n",
       "      <td>The Lord of the Rings: The Return of the King</td>\n",
       "      <td>2003</td>\n",
       "      <td>9</td>\n",
       "      <td>201</td>\n",
       "      <td>94</td>\n",
       "      <td>Peter Jackson</td>\n",
       "    </tr>\n",
       "  </tbody>\n",
       "</table>\n",
       "</div>"
      ],
      "text/plain": [
       "  Rank                                           Name  Year Rating  \\\n",
       "0    1                       The Shawshank Redemption  1994    9.3   \n",
       "1    2                                  The Godfather  1972    9.2   \n",
       "2    3                                The Dark Knight  2008      9   \n",
       "3    6                               Schindler's List  1993      9   \n",
       "4    7  The Lord of the Rings: The Return of the King  2003      9   \n",
       "\n",
       "  Duration (mins) Metascore              Director  \n",
       "0             142        82        Frank Darabont  \n",
       "1             175       100  Francis Ford Coppola  \n",
       "2             152        84     Christopher Nolan  \n",
       "3             195        95       Oskar Schindler  \n",
       "4             201        94         Peter Jackson  "
      ]
     },
     "execution_count": 59,
     "metadata": {},
     "output_type": "execute_result"
    }
   ],
   "source": [
    "df.head()"
   ]
  }
 ],
 "metadata": {
  "colab": {
   "provenance": []
  },
  "kernelspec": {
   "display_name": "Python 3 (ipykernel)",
   "language": "python",
   "name": "python3"
  },
  "language_info": {
   "codemirror_mode": {
    "name": "ipython",
    "version": 3
   },
   "file_extension": ".py",
   "mimetype": "text/x-python",
   "name": "python",
   "nbconvert_exporter": "python",
   "pygments_lexer": "ipython3",
   "version": "3.9.13"
  }
 },
 "nbformat": 4,
 "nbformat_minor": 5
}
